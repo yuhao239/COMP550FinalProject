{
 "cells": [
  {
   "cell_type": "code",
   "execution_count": null,
   "metadata": {},
   "outputs": [
    {
     "name": "stdout",
     "output_type": "stream",
     "text": [
      "Loading Sentiment140 dataset...\n",
      "\n",
      "Translating to fr using Helsinki-NLP/opus-mt-en-fr...\n"
     ]
    },
    {
     "name": "stderr",
     "output_type": "stream",
     "text": [
      "C:\\Users\\yuhao\\AppData\\Roaming\\Python\\Python38\\site-packages\\huggingface_hub\\file_download.py:797: FutureWarning: `resume_download` is deprecated and will be removed in version 1.0.0. Downloads always resume when possible. If you want to force a new download, use `force_download=True`.\n",
      "  warnings.warn(\n"
     ]
    },
    {
     "data": {
      "application/vnd.jupyter.widget-view+json": {
       "model_id": "9864f21bdf704d6cbbbc870e647576ad",
       "version_major": 2,
       "version_minor": 0
      },
      "text/plain": [
       "  0%|          | 0/188 [00:00<?, ?it/s]"
      ]
     },
     "metadata": {},
     "output_type": "display_data"
    },
    {
     "name": "stdout",
     "output_type": "stream",
     "text": [
      "Translations to fr saved to sentiment140_translated_fr.csv\n",
      "\n",
      "Translating to de using Helsinki-NLP/opus-mt-en-de...\n"
     ]
    },
    {
     "name": "stderr",
     "output_type": "stream",
     "text": [
      "C:\\Users\\yuhao\\AppData\\Roaming\\Python\\Python38\\site-packages\\huggingface_hub\\file_download.py:797: FutureWarning: `resume_download` is deprecated and will be removed in version 1.0.0. Downloads always resume when possible. If you want to force a new download, use `force_download=True`.\n",
      "  warnings.warn(\n"
     ]
    },
    {
     "data": {
      "application/vnd.jupyter.widget-view+json": {
       "model_id": "38705fcbca254382acfc8d983788b99c",
       "version_major": 2,
       "version_minor": 0
      },
      "text/plain": [
       "  0%|          | 0/188 [00:00<?, ?it/s]"
      ]
     },
     "metadata": {},
     "output_type": "display_data"
    },
    {
     "name": "stdout",
     "output_type": "stream",
     "text": [
      "Translations to de saved to sentiment140_translated_de.csv\n",
      "\n",
      "Translating to ro using Helsinki-NLP/opus-mt-en-ro...\n"
     ]
    },
    {
     "name": "stderr",
     "output_type": "stream",
     "text": [
      "C:\\Users\\yuhao\\AppData\\Roaming\\Python\\Python38\\site-packages\\huggingface_hub\\file_download.py:797: FutureWarning: `resume_download` is deprecated and will be removed in version 1.0.0. Downloads always resume when possible. If you want to force a new download, use `force_download=True`.\n",
      "  warnings.warn(\n"
     ]
    },
    {
     "data": {
      "application/vnd.jupyter.widget-view+json": {
       "model_id": "1a379de0f9294429a88dec8be4081a88",
       "version_major": 2,
       "version_minor": 0
      },
      "text/plain": [
       "  0%|          | 0/188 [00:00<?, ?it/s]"
      ]
     },
     "metadata": {},
     "output_type": "display_data"
    },
    {
     "name": "stdout",
     "output_type": "stream",
     "text": [
      "Translations to ro saved to sentiment140_translated_ro.csv\n",
      "Translation complete!\n"
     ]
    }
   ],
   "source": [
    "# Generate the translation samples for training \n",
    "import pandas as pd\n",
    "from transformers import MarianMTModel, MarianTokenizer\n",
    "from tqdm.auto import tqdm\n",
    "import torch\n",
    "import os\n",
    "\n",
    "# --- Configuration ---\n",
    "device = torch.device(\"cuda\" if torch.cuda.is_available() else \"cpu\")\n",
    "\n",
    "# --- Translation Function ---\n",
    "\n",
    "def translate_text(text, model, tokenizer, max_length=128):\n",
    "    \"\"\"Translates text using the specified MarianMT model and tokenizer.\"\"\"\n",
    "    inputs = tokenizer(text, return_tensors=\"pt\", padding=True, truncation=True, max_length=max_length)\n",
    "    inputs = {k: v.to(device) for k, v in inputs.items()}  # Move inputs to GPU\n",
    "\n",
    "    with torch.no_grad():\n",
    "        translated = model.generate(**inputs)\n",
    "\n",
    "    decoded = tokenizer.decode(translated[0], skip_special_tokens=True)\n",
    "    return decoded\n",
    "\n",
    "# --- Main Execution ---\n",
    "\n",
    "if __name__ == \"__main__\":\n",
    "    # --- Create the output directory if it doesn't exist ---\n",
    "    output_dir = \"./improved_datasets\"\n",
    "    if not os.path.exists(output_dir):\n",
    "        os.makedirs(output_dir)\n",
    "\n",
    "    # --- Load Sentiment140 Dataset ---\n",
    "    print(\"Loading Sentiment140 dataset...\")\n",
    "    data_path = \"training.1600000.processed.noemoticon.csv\"  # Replace with path\n",
    "    columns = ['target', 'id', 'date', 'flag', 'user', 'text']\n",
    "    df = pd.read_csv(data_path, encoding='latin-1', names=columns)\n",
    "\n",
    "    # --- Translation ---\n",
    "    target_languages = {\n",
    "        'fr': 'Helsinki-NLP/opus-mt-en-fr',  # French\n",
    "        'de': 'Helsinki-NLP/opus-mt-en-de',  # German\n",
    "        'ro': 'Helsinki-NLP/opus-mt-en-ro',   # Romanian\n",
    "    }\n",
    "\n",
    "    batch_size = 16  # Adjust based on GPU memory\n",
    "    num_tweets_to_translate = 3000  # Set the number of tweets to translate per language\n",
    "    num_positive = num_tweets_to_translate // 2  # Number of positive tweets to translate\n",
    "    num_negative = num_tweets_to_translate - num_positive  # Number of negative tweets to translate\n",
    "\n",
    "    for lang_code, model_name in target_languages.items():\n",
    "        print(f\"\\nTranslating to {lang_code} using {model_name}...\")\n",
    "\n",
    "        # Load model and tokenizer\n",
    "        tokenizer = MarianTokenizer.from_pretrained(model_name)\n",
    "        model = MarianMTModel.from_pretrained(model_name).to(device)\n",
    "        model.eval()  # Set the model to evaluation mode\n",
    "\n",
    "        # --- Get balanced sample of positive and negative tweets ---\n",
    "        df_positive = df[df['target'] == 4].sample(n=num_positive, random_state=42)  # 4 represents positive sentiment\n",
    "        df_negative = df[df['target'] == 0].sample(n=num_negative, random_state=42)  # 0 represents negative sentiment\n",
    "        df_sample = pd.concat([df_positive, df_negative])\n",
    "\n",
    "        translated_texts = []\n",
    "\n",
    "        # Limit the loop to process only the desired number of tweets\n",
    "        for i in tqdm(range(0, len(df_sample), batch_size)):\n",
    "            batch = df_sample['text'][i:i + batch_size].tolist()\n",
    "\n",
    "            # Translate the batch of texts\n",
    "            batch_translations = [translate_text(text, model, tokenizer) for text in batch]\n",
    "            translated_texts.extend(batch_translations)\n",
    "\n",
    "        # Create a new DataFrame for this language\n",
    "        df_lang = df_sample.copy()\n",
    "        df_lang[f'text_{lang_code}'] = translated_texts\n",
    "\n",
    "        # Save the DataFrame with translations to a new CSV file\n",
    "        output_file = f\"sentiment140_translated_{lang_code}.csv\"\n",
    "        df_lang.to_csv(f\"./improved_datasets/{output_file}\", index=False)\n",
    "        print(f\"Translations to {lang_code} saved to {output_file}\")\n",
    "\n",
    "    print(\"Translation complete!\")"
   ]
  },
  {
   "cell_type": "code",
   "execution_count": 4,
   "metadata": {},
   "outputs": [
    {
     "name": "stderr",
     "output_type": "stream",
     "text": [
      "100%|██████████| 50/50 [04:46<00:00,  5.73s/it]\n",
      "100%|██████████| 50/50 [04:09<00:00,  4.99s/it]\n",
      "100%|██████████| 50/50 [05:01<00:00,  6.02s/it]\n"
     ]
    }
   ],
   "source": [
    "# Generate the translation samples using the OpenAI API for more accurate translations\n",
    "import openai\n",
    "import pandas as pd\n",
    "from tqdm import tqdm\n",
    "import time\n",
    "\n",
    "\n",
    "def translate_with_openai(texts, target_lang, batch_size=20):\n",
    "    translations = []\n",
    "    system_prompt = f\"You are a professional translator. Translate the following English texts into {target_lang}. Return only the translations, one per line.\"\n",
    "\n",
    "    for i in tqdm(range(0, len(texts), batch_size)):\n",
    "        batch = texts[i:i+batch_size]\n",
    "        user_prompt = \"\\n\".join(batch)\n",
    "\n",
    "        try:\n",
    "            response = openai.ChatCompletion.create(\n",
    "                model=\"gpt-3.5-turbo\",\n",
    "                messages=[\n",
    "                    {\"role\": \"system\", \"content\": system_prompt},\n",
    "                    {\"role\": \"user\", \"content\": user_prompt}\n",
    "                ],\n",
    "                temperature=0.0\n",
    "            )\n",
    "            batch_translations = response.choices[0].message.content.strip().split('\\n')\n",
    "            batch_translations = [t.strip() for t in batch_translations if t.strip()]\n",
    "            batch_translations = batch_translations[:len(batch)]\n",
    "            while len(batch_translations) < len(batch):\n",
    "                batch_translations.append(\"\")\n",
    "\n",
    "            translations.extend(batch_translations)\n",
    "\n",
    "        except Exception as e:\n",
    "            print(f\"Error: {e}\")\n",
    "            translations.extend([\"\"] * len(batch))\n",
    "\n",
    "        time.sleep(0.1)  # To avoid rate limit issues\n",
    "\n",
    "    return translations\n",
    "\n",
    "\n",
    "def main():\n",
    "    # Load your dataset\n",
    "    data = pd.read_csv(\n",
    "        'training.1600000.processed.noemoticon.csv', \n",
    "        encoding='latin-1',\n",
    "        names=['target', 'id', 'date', 'flag', 'user', 'text']\n",
    "    )\n",
    "\n",
    "    # Filter out positive and negative samples only\n",
    "    positive_data = data[data['target'] == 4]\n",
    "    negative_data = data[data['target'] == 0]\n",
    "\n",
    "    # Sample equal numbers from positive and negative\n",
    "    pos_sample = positive_data.sample(n=500, random_state=42)\n",
    "    neg_sample = negative_data.sample(n=500, random_state=42)\n",
    "\n",
    "    balanced_data = pd.concat([pos_sample, neg_sample]).sample(frac=1, random_state=42).reset_index(drop=True)\n",
    "\n",
    "    # Translate to multiple languages\n",
    "    lang_map = {\n",
    "        'fr': 'French',\n",
    "        'de': 'German',\n",
    "        'ro': 'Romanian'\n",
    "    }\n",
    "\n",
    "    for lang_code, lang_name in lang_map.items():\n",
    "        translations = translate_with_openai(\n",
    "            balanced_data['text'].tolist(),\n",
    "            lang_name\n",
    "        )\n",
    "\n",
    "        # Save translations\n",
    "        pd.DataFrame({\n",
    "            'text': balanced_data['text'],\n",
    "            'translation': translations,\n",
    "            'target': balanced_data['target']\n",
    "        }).to_csv(f'openai_translations_{lang_code}.csv', index=False)\n",
    "\n",
    "if __name__ == \"__main__\":\n",
    "    main()\n"
   ]
  },
  {
   "cell_type": "code",
   "execution_count": 8,
   "metadata": {},
   "outputs": [
    {
     "name": "stderr",
     "output_type": "stream",
     "text": [
      "C:\\Users\\yuhao\\AppData\\Local\\Temp\\ipykernel_18600\\1682162883.py:113: SettingWithCopyWarning: \n",
      "A value is trying to be set on a copy of a slice from a DataFrame.\n",
      "Try using .loc[row_indexer,col_indexer] = value instead\n",
      "\n",
      "See the caveats in the documentation: https://pandas.pydata.org/pandas-docs/stable/user_guide/indexing.html#returning-a-view-versus-a-copy\n",
      "  train_data['text'] = train_data['text'].astype(str)\n",
      "C:\\Users\\yuhao\\AppData\\Local\\Temp\\ipykernel_18600\\1682162883.py:114: SettingWithCopyWarning: \n",
      "A value is trying to be set on a copy of a slice from a DataFrame.\n",
      "Try using .loc[row_indexer,col_indexer] = value instead\n",
      "\n",
      "See the caveats in the documentation: https://pandas.pydata.org/pandas-docs/stable/user_guide/indexing.html#returning-a-view-versus-a-copy\n",
      "  train_data['translation'] = train_data['translation'].astype(str)\n",
      "C:\\Users\\yuhao\\AppData\\Local\\Temp\\ipykernel_18600\\1682162883.py:116: SettingWithCopyWarning: \n",
      "A value is trying to be set on a copy of a slice from a DataFrame.\n",
      "Try using .loc[row_indexer,col_indexer] = value instead\n",
      "\n",
      "See the caveats in the documentation: https://pandas.pydata.org/pandas-docs/stable/user_guide/indexing.html#returning-a-view-versus-a-copy\n",
      "  val_data['text'] = val_data['text'].astype(str)\n",
      "C:\\Users\\yuhao\\AppData\\Local\\Temp\\ipykernel_18600\\1682162883.py:117: SettingWithCopyWarning: \n",
      "A value is trying to be set on a copy of a slice from a DataFrame.\n",
      "Try using .loc[row_indexer,col_indexer] = value instead\n",
      "\n",
      "See the caveats in the documentation: https://pandas.pydata.org/pandas-docs/stable/user_guide/indexing.html#returning-a-view-versus-a-copy\n",
      "  val_data['translation'] = val_data['translation'].astype(str)\n",
      "C:\\Users\\yuhao\\AppData\\Roaming\\Python\\Python38\\site-packages\\huggingface_hub\\file_download.py:797: FutureWarning: `resume_download` is deprecated and will be removed in version 1.0.0. Downloads always resume when possible. If you want to force a new download, use `force_download=True`.\n",
      "  warnings.warn(\n",
      "c:\\Users\\yuhao\\anaconda3\\lib\\site-packages\\transformers\\optimization.py:411: FutureWarning: This implementation of AdamW is deprecated and will be removed in a future version. Use the PyTorch implementation torch.optim.AdamW instead, or set `no_deprecation_warning=True` to disable this warning\n",
      "  warnings.warn(\n"
     ]
    },
    {
     "data": {
      "application/vnd.jupyter.widget-view+json": {
       "model_id": "98195f6066894d43808ca8cc5b06d7e0",
       "version_major": 2,
       "version_minor": 0
      },
      "text/plain": [
       "Epoch 1/5:   0%|          | 0/113 [00:00<?, ?it/s]"
      ]
     },
     "metadata": {},
     "output_type": "display_data"
    },
    {
     "name": "stdout",
     "output_type": "stream",
     "text": [
      "Epoch 1 - Average Loss: 2.0298\n"
     ]
    },
    {
     "data": {
      "application/vnd.jupyter.widget-view+json": {
       "model_id": "56c82bc37ddb438dab0d059f8699db8a",
       "version_major": 2,
       "version_minor": 0
      },
      "text/plain": [
       "Epoch 2/5:   0%|          | 0/113 [00:00<?, ?it/s]"
      ]
     },
     "metadata": {},
     "output_type": "display_data"
    },
    {
     "name": "stdout",
     "output_type": "stream",
     "text": [
      "Epoch 2 - Average Loss: 1.0142\n"
     ]
    },
    {
     "data": {
      "application/vnd.jupyter.widget-view+json": {
       "model_id": "60bafedbe8e746b6af70cda63866778e",
       "version_major": 2,
       "version_minor": 0
      },
      "text/plain": [
       "Epoch 3/5:   0%|          | 0/113 [00:00<?, ?it/s]"
      ]
     },
     "metadata": {},
     "output_type": "display_data"
    },
    {
     "name": "stdout",
     "output_type": "stream",
     "text": [
      "Epoch 3 - Average Loss: 0.8393\n"
     ]
    },
    {
     "data": {
      "application/vnd.jupyter.widget-view+json": {
       "model_id": "4491103ecbc44d4db6750ecf357ba9ef",
       "version_major": 2,
       "version_minor": 0
      },
      "text/plain": [
       "Epoch 4/5:   0%|          | 0/113 [00:00<?, ?it/s]"
      ]
     },
     "metadata": {},
     "output_type": "display_data"
    },
    {
     "name": "stdout",
     "output_type": "stream",
     "text": [
      "Epoch 4 - Average Loss: 0.7484\n"
     ]
    },
    {
     "data": {
      "application/vnd.jupyter.widget-view+json": {
       "model_id": "204af9e2eecf4b3086cdf8f94815280c",
       "version_major": 2,
       "version_minor": 0
      },
      "text/plain": [
       "Epoch 5/5:   0%|          | 0/113 [00:00<?, ?it/s]"
      ]
     },
     "metadata": {},
     "output_type": "display_data"
    },
    {
     "name": "stdout",
     "output_type": "stream",
     "text": [
      "Epoch 5 - Average Loss: 0.7045\n"
     ]
    },
    {
     "name": "stderr",
     "output_type": "stream",
     "text": [
      "C:\\Users\\yuhao\\AppData\\Local\\Temp\\ipykernel_18600\\1682162883.py:113: SettingWithCopyWarning: \n",
      "A value is trying to be set on a copy of a slice from a DataFrame.\n",
      "Try using .loc[row_indexer,col_indexer] = value instead\n",
      "\n",
      "See the caveats in the documentation: https://pandas.pydata.org/pandas-docs/stable/user_guide/indexing.html#returning-a-view-versus-a-copy\n",
      "  train_data['text'] = train_data['text'].astype(str)\n",
      "C:\\Users\\yuhao\\AppData\\Local\\Temp\\ipykernel_18600\\1682162883.py:114: SettingWithCopyWarning: \n",
      "A value is trying to be set on a copy of a slice from a DataFrame.\n",
      "Try using .loc[row_indexer,col_indexer] = value instead\n",
      "\n",
      "See the caveats in the documentation: https://pandas.pydata.org/pandas-docs/stable/user_guide/indexing.html#returning-a-view-versus-a-copy\n",
      "  train_data['translation'] = train_data['translation'].astype(str)\n",
      "C:\\Users\\yuhao\\AppData\\Local\\Temp\\ipykernel_18600\\1682162883.py:116: SettingWithCopyWarning: \n",
      "A value is trying to be set on a copy of a slice from a DataFrame.\n",
      "Try using .loc[row_indexer,col_indexer] = value instead\n",
      "\n",
      "See the caveats in the documentation: https://pandas.pydata.org/pandas-docs/stable/user_guide/indexing.html#returning-a-view-versus-a-copy\n",
      "  val_data['text'] = val_data['text'].astype(str)\n",
      "C:\\Users\\yuhao\\AppData\\Local\\Temp\\ipykernel_18600\\1682162883.py:117: SettingWithCopyWarning: \n",
      "A value is trying to be set on a copy of a slice from a DataFrame.\n",
      "Try using .loc[row_indexer,col_indexer] = value instead\n",
      "\n",
      "See the caveats in the documentation: https://pandas.pydata.org/pandas-docs/stable/user_guide/indexing.html#returning-a-view-versus-a-copy\n",
      "  val_data['translation'] = val_data['translation'].astype(str)\n",
      "C:\\Users\\yuhao\\AppData\\Roaming\\Python\\Python38\\site-packages\\huggingface_hub\\file_download.py:797: FutureWarning: `resume_download` is deprecated and will be removed in version 1.0.0. Downloads always resume when possible. If you want to force a new download, use `force_download=True`.\n",
      "  warnings.warn(\n",
      "c:\\Users\\yuhao\\anaconda3\\lib\\site-packages\\transformers\\optimization.py:411: FutureWarning: This implementation of AdamW is deprecated and will be removed in a future version. Use the PyTorch implementation torch.optim.AdamW instead, or set `no_deprecation_warning=True` to disable this warning\n",
      "  warnings.warn(\n"
     ]
    },
    {
     "data": {
      "application/vnd.jupyter.widget-view+json": {
       "model_id": "82cfea812ddb4bcea46dd03c3f6548e5",
       "version_major": 2,
       "version_minor": 0
      },
      "text/plain": [
       "Epoch 1/5:   0%|          | 0/113 [00:00<?, ?it/s]"
      ]
     },
     "metadata": {},
     "output_type": "display_data"
    },
    {
     "name": "stdout",
     "output_type": "stream",
     "text": [
      "Epoch 1 - Average Loss: 2.5345\n"
     ]
    },
    {
     "data": {
      "application/vnd.jupyter.widget-view+json": {
       "model_id": "d1a34229c0644b71aee55842c793bd79",
       "version_major": 2,
       "version_minor": 0
      },
      "text/plain": [
       "Epoch 2/5:   0%|          | 0/113 [00:00<?, ?it/s]"
      ]
     },
     "metadata": {},
     "output_type": "display_data"
    },
    {
     "name": "stdout",
     "output_type": "stream",
     "text": [
      "Epoch 2 - Average Loss: 1.2689\n"
     ]
    },
    {
     "data": {
      "application/vnd.jupyter.widget-view+json": {
       "model_id": "e3b03dbf1b4b4bb399b1d96819979eb3",
       "version_major": 2,
       "version_minor": 0
      },
      "text/plain": [
       "Epoch 3/5:   0%|          | 0/113 [00:00<?, ?it/s]"
      ]
     },
     "metadata": {},
     "output_type": "display_data"
    },
    {
     "name": "stdout",
     "output_type": "stream",
     "text": [
      "Epoch 3 - Average Loss: 1.0368\n"
     ]
    },
    {
     "data": {
      "application/vnd.jupyter.widget-view+json": {
       "model_id": "6a9a1daff2ca4c70900d379a036a28e5",
       "version_major": 2,
       "version_minor": 0
      },
      "text/plain": [
       "Epoch 4/5:   0%|          | 0/113 [00:00<?, ?it/s]"
      ]
     },
     "metadata": {},
     "output_type": "display_data"
    },
    {
     "name": "stdout",
     "output_type": "stream",
     "text": [
      "Epoch 4 - Average Loss: 0.9256\n"
     ]
    },
    {
     "data": {
      "application/vnd.jupyter.widget-view+json": {
       "model_id": "f9c355686df5433f88c9556cfd103f9c",
       "version_major": 2,
       "version_minor": 0
      },
      "text/plain": [
       "Epoch 5/5:   0%|          | 0/113 [00:00<?, ?it/s]"
      ]
     },
     "metadata": {},
     "output_type": "display_data"
    },
    {
     "name": "stdout",
     "output_type": "stream",
     "text": [
      "Epoch 5 - Average Loss: 0.8699\n"
     ]
    },
    {
     "name": "stderr",
     "output_type": "stream",
     "text": [
      "C:\\Users\\yuhao\\AppData\\Local\\Temp\\ipykernel_18600\\1682162883.py:113: SettingWithCopyWarning: \n",
      "A value is trying to be set on a copy of a slice from a DataFrame.\n",
      "Try using .loc[row_indexer,col_indexer] = value instead\n",
      "\n",
      "See the caveats in the documentation: https://pandas.pydata.org/pandas-docs/stable/user_guide/indexing.html#returning-a-view-versus-a-copy\n",
      "  train_data['text'] = train_data['text'].astype(str)\n",
      "C:\\Users\\yuhao\\AppData\\Local\\Temp\\ipykernel_18600\\1682162883.py:114: SettingWithCopyWarning: \n",
      "A value is trying to be set on a copy of a slice from a DataFrame.\n",
      "Try using .loc[row_indexer,col_indexer] = value instead\n",
      "\n",
      "See the caveats in the documentation: https://pandas.pydata.org/pandas-docs/stable/user_guide/indexing.html#returning-a-view-versus-a-copy\n",
      "  train_data['translation'] = train_data['translation'].astype(str)\n",
      "C:\\Users\\yuhao\\AppData\\Local\\Temp\\ipykernel_18600\\1682162883.py:116: SettingWithCopyWarning: \n",
      "A value is trying to be set on a copy of a slice from a DataFrame.\n",
      "Try using .loc[row_indexer,col_indexer] = value instead\n",
      "\n",
      "See the caveats in the documentation: https://pandas.pydata.org/pandas-docs/stable/user_guide/indexing.html#returning-a-view-versus-a-copy\n",
      "  val_data['text'] = val_data['text'].astype(str)\n",
      "C:\\Users\\yuhao\\AppData\\Local\\Temp\\ipykernel_18600\\1682162883.py:117: SettingWithCopyWarning: \n",
      "A value is trying to be set on a copy of a slice from a DataFrame.\n",
      "Try using .loc[row_indexer,col_indexer] = value instead\n",
      "\n",
      "See the caveats in the documentation: https://pandas.pydata.org/pandas-docs/stable/user_guide/indexing.html#returning-a-view-versus-a-copy\n",
      "  val_data['translation'] = val_data['translation'].astype(str)\n",
      "C:\\Users\\yuhao\\AppData\\Roaming\\Python\\Python38\\site-packages\\huggingface_hub\\file_download.py:797: FutureWarning: `resume_download` is deprecated and will be removed in version 1.0.0. Downloads always resume when possible. If you want to force a new download, use `force_download=True`.\n",
      "  warnings.warn(\n",
      "c:\\Users\\yuhao\\anaconda3\\lib\\site-packages\\transformers\\optimization.py:411: FutureWarning: This implementation of AdamW is deprecated and will be removed in a future version. Use the PyTorch implementation torch.optim.AdamW instead, or set `no_deprecation_warning=True` to disable this warning\n",
      "  warnings.warn(\n"
     ]
    },
    {
     "data": {
      "application/vnd.jupyter.widget-view+json": {
       "model_id": "07f806590de5478ab6c9afc6bf023121",
       "version_major": 2,
       "version_minor": 0
      },
      "text/plain": [
       "Epoch 1/5:   0%|          | 0/113 [00:00<?, ?it/s]"
      ]
     },
     "metadata": {},
     "output_type": "display_data"
    },
    {
     "name": "stdout",
     "output_type": "stream",
     "text": [
      "Epoch 1 - Average Loss: 2.3184\n"
     ]
    },
    {
     "data": {
      "application/vnd.jupyter.widget-view+json": {
       "model_id": "9a580dddeae24406b5815ecca2cbbc4e",
       "version_major": 2,
       "version_minor": 0
      },
      "text/plain": [
       "Epoch 2/5:   0%|          | 0/113 [00:00<?, ?it/s]"
      ]
     },
     "metadata": {},
     "output_type": "display_data"
    },
    {
     "name": "stdout",
     "output_type": "stream",
     "text": [
      "Epoch 2 - Average Loss: 0.7894\n"
     ]
    },
    {
     "data": {
      "application/vnd.jupyter.widget-view+json": {
       "model_id": "7108629048cc46d5be8b44439fef5b92",
       "version_major": 2,
       "version_minor": 0
      },
      "text/plain": [
       "Epoch 3/5:   0%|          | 0/113 [00:00<?, ?it/s]"
      ]
     },
     "metadata": {},
     "output_type": "display_data"
    },
    {
     "name": "stdout",
     "output_type": "stream",
     "text": [
      "Epoch 3 - Average Loss: 0.6396\n"
     ]
    },
    {
     "data": {
      "application/vnd.jupyter.widget-view+json": {
       "model_id": "df5a7d501dff47e2b9b242a0a41c0671",
       "version_major": 2,
       "version_minor": 0
      },
      "text/plain": [
       "Epoch 4/5:   0%|          | 0/113 [00:00<?, ?it/s]"
      ]
     },
     "metadata": {},
     "output_type": "display_data"
    },
    {
     "name": "stdout",
     "output_type": "stream",
     "text": [
      "Epoch 4 - Average Loss: 0.5631\n"
     ]
    },
    {
     "data": {
      "application/vnd.jupyter.widget-view+json": {
       "model_id": "c27c531e71f94ecd8b18adfcd3e533d2",
       "version_major": 2,
       "version_minor": 0
      },
      "text/plain": [
       "Epoch 5/5:   0%|          | 0/113 [00:00<?, ?it/s]"
      ]
     },
     "metadata": {},
     "output_type": "display_data"
    },
    {
     "name": "stdout",
     "output_type": "stream",
     "text": [
      "Epoch 5 - Average Loss: 0.5315\n"
     ]
    }
   ],
   "source": [
    "import torch\n",
    "from torch.utils.data import Dataset, DataLoader\n",
    "from transformers import MarianMTModel, MarianTokenizer, AdamW, get_linear_schedule_with_warmup\n",
    "import pandas as pd\n",
    "from tqdm.auto import tqdm\n",
    "import sacrebleu\n",
    "\n",
    "class TranslationDataset(Dataset):\n",
    "    def __init__(self, source_texts, target_texts, tokenizer, max_length=128):\n",
    "        self.source_encodings = tokenizer(source_texts, truncation=True, padding=True, max_length=max_length)\n",
    "        self.target_encodings = tokenizer(target_texts, truncation=True, padding=True, max_length=max_length)\n",
    "\n",
    "    def __getitem__(self, idx):\n",
    "        return {\n",
    "            'input_ids': torch.tensor(self.source_encodings['input_ids'][idx]),\n",
    "            'attention_mask': torch.tensor(self.source_encodings['attention_mask'][idx]),\n",
    "            'labels': torch.tensor(self.target_encodings['input_ids'][idx])\n",
    "        }\n",
    "\n",
    "    def __len__(self):\n",
    "        return len(self.source_encodings['input_ids'])\n",
    "\n",
    "def train_translator(lang_code, train_data, val_data=None, batch_size=8, epochs=5):\n",
    "    device = torch.device(\"cuda\" if torch.cuda.is_available() else \"cpu\")\n",
    "    model_name = f'Helsinki-NLP/opus-mt-en-{lang_code}'\n",
    "    \n",
    "    # Load model and tokenizer\n",
    "    tokenizer = MarianTokenizer.from_pretrained(model_name)\n",
    "    model = MarianMTModel.from_pretrained(model_name).to(device)\n",
    "    \n",
    "    # Prepare datasets\n",
    "    train_dataset = TranslationDataset(\n",
    "        train_data['text'].tolist(),\n",
    "        train_data['translation'].tolist(),\n",
    "        tokenizer\n",
    "    )\n",
    "    train_loader = DataLoader(train_dataset, batch_size=batch_size, shuffle=True)\n",
    "    \n",
    "    if val_data is not None:\n",
    "        val_dataset = TranslationDataset(\n",
    "            val_data['text'].tolist(),\n",
    "            val_data['translation'].tolist(),\n",
    "            tokenizer\n",
    "        )\n",
    "        val_loader = DataLoader(val_dataset, batch_size=batch_size)\n",
    "    \n",
    "    # Training setup\n",
    "    optimizer = AdamW(model.parameters(), lr=2e-5)\n",
    "    total_steps = len(train_loader) * epochs\n",
    "    scheduler = get_linear_schedule_with_warmup(\n",
    "        optimizer,\n",
    "        num_warmup_steps=total_steps // 10,\n",
    "        num_training_steps=total_steps\n",
    "    )\n",
    "    \n",
    "    best_loss = float('inf')\n",
    "    for epoch in range(epochs):\n",
    "        model.train()\n",
    "        total_loss = 0\n",
    "        \n",
    "        for batch in tqdm(train_loader, desc=f'Epoch {epoch + 1}/{epochs}'):\n",
    "            batch = {k: v.to(device) for k, v in batch.items()}\n",
    "            \n",
    "            optimizer.zero_grad()\n",
    "            outputs = model(**batch)\n",
    "            loss = outputs.loss\n",
    "            loss.backward()\n",
    "            \n",
    "            torch.nn.utils.clip_grad_norm_(model.parameters(), 1.0)\n",
    "            optimizer.step()\n",
    "            scheduler.step()\n",
    "            \n",
    "            total_loss += loss.item()\n",
    "        \n",
    "        avg_loss = total_loss / len(train_loader)\n",
    "        print(f'Epoch {epoch + 1} - Average Loss: {avg_loss:.4f}')\n",
    "        \n",
    "        if avg_loss < best_loss:\n",
    "            best_loss = avg_loss\n",
    "            model.save_pretrained(f'./marianmtmodels/marian-mt-{lang_code}-finetuned')\n",
    "            tokenizer.save_pretrained(f'./marianmtmodels/marian-mt-{lang_code}-finetuned')\n",
    "\n",
    "def main():\n",
    "    data = pd.read_csv(\n",
    "        'training.1600000.processed.noemoticon.csv', \n",
    "        encoding='latin-1',\n",
    "        names=['target', 'id', 'date', 'flag', 'user', 'text']\n",
    "    )\n",
    "\n",
    "    positive_data = data[data['target'] == 4]\n",
    "    negative_data = data[data['target'] == 0]\n",
    "\n",
    "    pos_sample = positive_data.sample(n=500, random_state=42)\n",
    "    neg_sample = negative_data.sample(n=500, random_state=42)\n",
    "\n",
    "    balanced_data = pd.concat([pos_sample, neg_sample]).sample(frac=1, random_state=42).reset_index(drop=True)\n",
    "\n",
    "    # Ensure your CSV with translations has the columns 'text' and 'translation'\n",
    "    # and that 'translation' column actually contains strings.\n",
    "    for lang_code in ['fr', 'de', 'ro']:\n",
    "        df = pd.read_csv(f'./improved_datasets/openai_translations_{lang_code}.csv')\n",
    "\n",
    "        # Clean data: Ensure strings and drop NaNs\n",
    "        df['text'] = df['text'].astype(str)\n",
    "        df['translation'] = df['translation'].astype(str)\n",
    "        df = df.dropna(subset=['text', 'translation'])\n",
    "\n",
    "        train_size = int(0.9 * len(df))\n",
    "        train_data = df[:train_size]\n",
    "        val_data = df[train_size:]\n",
    "\n",
    "        # Convert columns to string just to be safe\n",
    "        train_data['text'] = train_data['text'].astype(str)\n",
    "        train_data['translation'] = train_data['translation'].astype(str)\n",
    "\n",
    "        val_data['text'] = val_data['text'].astype(str)\n",
    "        val_data['translation'] = val_data['translation'].astype(str)\n",
    "\n",
    "        train_translator(lang_code, train_data, val_data)\n",
    "\n",
    "main()"
   ]
  },
  {
   "cell_type": "code",
   "execution_count": null,
   "metadata": {},
   "outputs": [],
   "source": []
  }
 ],
 "metadata": {
  "kernelspec": {
   "display_name": "base",
   "language": "python",
   "name": "python3"
  },
  "language_info": {
   "codemirror_mode": {
    "name": "ipython",
    "version": 3
   },
   "file_extension": ".py",
   "mimetype": "text/x-python",
   "name": "python",
   "nbconvert_exporter": "python",
   "pygments_lexer": "ipython3",
   "version": "3.8.8"
  }
 },
 "nbformat": 4,
 "nbformat_minor": 2
}
